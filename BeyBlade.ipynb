{
 "cells": [
  {
   "cell_type": "code",
   "execution_count": 1,
   "id": "pleasant-absorption",
   "metadata": {},
   "outputs": [
    {
     "name": "stdout",
     "output_type": "stream",
     "text": [
      "hi\n"
     ]
    }
   ],
   "source": [
    "print('hi')"
   ]
  },
  {
   "cell_type": "code",
   "execution_count": 2,
   "id": "noticed-midwest",
   "metadata": {},
   "outputs": [
    {
     "name": "stdout",
     "output_type": "stream",
     "text": [
      "Welcome to the Beyblade Battle!\n",
      "Choose your Beyblade:\n",
      "1. Dragoon\n",
      "2. Pegasus\n",
      "3. Draciel\n",
      "4. Wyvern\n",
      "Enter the number of your Beyblade: 1\n",
      "You've chosen Dragoon!\n",
      "Dragoon vs Wyvern!\n",
      "Dragoon attacks with power 86\n",
      "Wyvern attacks with power 88\n",
      "Wyvern wins!\n",
      "The winner is Wyvern!\n"
     ]
    }
   ],
   "source": [
    "import random\n",
    "\n",
    "class Beyblade:\n",
    "    def __init__(self, name, power):\n",
    "        self.name = name\n",
    "        self.power = power\n",
    "\n",
    "    def attack(self):\n",
    "        return random.randint(1, self.power)\n",
    "\n",
    "def battle(player1, player2):\n",
    "    print(f\"{player1.name} vs {player2.name}!\")\n",
    "    while True:\n",
    "        p1_attack = player1.attack()\n",
    "        p2_attack = player2.attack()\n",
    "\n",
    "        print(f\"{player1.name} attacks with power {p1_attack}\")\n",
    "        print(f\"{player2.name} attacks with power {p2_attack}\")\n",
    "\n",
    "        if p1_attack > p2_attack:\n",
    "            print(f\"{player1.name} wins!\")\n",
    "            return player1\n",
    "        elif p2_attack > p1_attack:\n",
    "            print(f\"{player2.name} wins!\")\n",
    "            return player2\n",
    "        else:\n",
    "            print(\"It's a tie! Let's attack again.\")\n",
    "\n",
    "if __name__ == \"__main__\":\n",
    "    beyblades = [\n",
    "        Beyblade(\"Dragoon\", 100),\n",
    "        Beyblade(\"Pegasus\", 110),\n",
    "        Beyblade(\"Draciel\", 120),\n",
    "        Beyblade(\"Wyvern\", 90)\n",
    "    ]\n",
    "\n",
    "    print(\"Welcome to the Beyblade Battle!\")\n",
    "    print(\"Choose your Beyblade:\")\n",
    "    for i, beyblade in enumerate(beyblades, 1):\n",
    "        print(f\"{i}. {beyblade.name}\")\n",
    "\n",
    "    while True:\n",
    "        try:\n",
    "            choice = int(input(\"Enter the number of your Beyblade: \"))\n",
    "            if 1 <= choice <= len(beyblades):\n",
    "                break\n",
    "            else:\n",
    "                print(\"Invalid choice. Please enter a number between 1 and\", len(beyblades))\n",
    "        except ValueError:\n",
    "            print(\"Invalid input. Please enter a number.\")\n",
    "\n",
    "    player_beyblade = beyblades[choice - 1]\n",
    "\n",
    "    opponent_beyblade = random.choice(beyblades)\n",
    "    while opponent_beyblade == player_beyblade:\n",
    "        opponent_beyblade = random.choice(beyblades)\n",
    "\n",
    "    print(f\"You've chosen {player_beyblade.name}!\")\n",
    "    winner = battle(player_beyblade, opponent_beyblade)\n",
    "    print(f\"The winner is {winner.name}!\")\n"
   ]
  },
  {
   "cell_type": "code",
   "execution_count": null,
   "id": "agreed-pepper",
   "metadata": {},
   "outputs": [],
   "source": []
  }
 ],
 "metadata": {
  "kernelspec": {
   "display_name": "Python 3",
   "language": "python",
   "name": "python3"
  },
  "language_info": {
   "codemirror_mode": {
    "name": "ipython",
    "version": 3
   },
   "file_extension": ".py",
   "mimetype": "text/x-python",
   "name": "python",
   "nbconvert_exporter": "python",
   "pygments_lexer": "ipython3",
   "version": "3.8.5"
  }
 },
 "nbformat": 4,
 "nbformat_minor": 5
}
